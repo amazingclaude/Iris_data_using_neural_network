{
 "cells": [
  {
   "cell_type": "code",
   "execution_count": 43,
   "metadata": {},
   "outputs": [],
   "source": [
    "import tensorflow as tf\n",
    "import csv\n",
    "import random\n",
    "with open('.\\Iris.csv') as csvfile:        \n",
    "    csvreader = csv.reader(csvfile)\n",
    "    next(csvreader, None) # skip header\n",
    "    dataset = list(csvreader)\n",
    "random.shuffle(dataset)\n",
    "datatrain = dataset[1:int(len(dataset))]\n",
    "data = [data for data in datatrain]\n",
    "labels = [data[4] for data in datatrain]   \n"
   ]
  },
  {
   "cell_type": "code",
   "execution_count": 44,
   "metadata": {},
   "outputs": [],
   "source": [
    "label_ref = {'Iris-setosa': 0, 'Iris-versicolor': 1, 'Iris-virginica': 2}\n",
    "train_set=[]\n",
    "train_stances=[]\n",
    "test_set=[]\n",
    "test_stances=[]\n",
    "for data in dataset:\n",
    "    if random.randint(1,10)<2:\n",
    "        test_set.append(data[1:5])\n",
    "        test_stances.append(label_ref[data[5]])\n",
    "    else:\n",
    "        train_set.append(data[1:5])\n",
    "        train_stances.append(label_ref[data[5]])"
   ]
  },
  {
   "cell_type": "code",
   "execution_count": 51,
   "metadata": {},
   "outputs": [
    {
     "name": "stdout",
     "output_type": "stream",
     "text": [
      "[[9.84494865e-01 1.55000621e-02 5.00456599e-06]\n",
      " [1.62312377e-03 5.24277210e-01 4.74099725e-01]\n",
      " [1.54590361e-05 1.17823906e-01 8.82160604e-01]\n",
      " [9.72620428e-01 2.73569375e-02 2.26339598e-05]\n",
      " [8.07341561e-03 6.87351465e-01 3.04575086e-01]\n",
      " [1.99403777e-03 5.11100590e-01 4.86905336e-01]\n",
      " [9.86262083e-01 1.37342978e-02 3.59700834e-06]\n",
      " [5.75768854e-03 7.09211826e-01 2.85030484e-01]\n",
      " [1.18419842e-03 4.20621753e-01 5.78194141e-01]\n",
      " [9.73863840e-01 2.61178296e-02 1.83406883e-05]\n",
      " [1.19300021e-04 2.14296401e-01 7.85584271e-01]\n",
      " [1.65036842e-02 8.32567096e-01 1.50929227e-01]\n",
      " [1.47579401e-03 4.44780618e-01 5.53743541e-01]\n",
      " [1.95840355e-02 8.15351427e-01 1.65064558e-01]]\n"
     ]
    }
   ],
   "source": [
    "# Initialise hyperparameters\n",
    "r = random.Random()\n",
    "r.seed(123)\n",
    "target_size = 3\n",
    "hidden_size = 3\n",
    "\n",
    "l2_alpha = 0.00001\n",
    "learn_rate = 0.001\n",
    "clip_ratio = 5\n",
    "batch_size_train = 4\n",
    "epochs = 90\n",
    "n_train = len(train_set)#the total number of entry instances\n",
    "\n",
    "#===============================\n",
    "# Define model\n",
    "#==============================\n",
    "\n",
    "feature_size = len(train_set[0])\n",
    "\n",
    "#to clear the existed nodes for new model training\n",
    "tf.reset_default_graph() \n",
    "\n",
    "# Create placeholders\n",
    "features_pl = tf.placeholder(tf.float32, [None, feature_size], 'features')\n",
    "stances_pl = tf.placeholder(tf.int64, [None], 'stances')\n",
    "\n",
    "# Infer batch size\n",
    "batch_size = tf.shape(features_pl)[0]\n",
    "\n",
    "# Define multi-layer perceptron\n",
    "hidden_layer = tf.contrib.layers.fully_connected(features_pl, hidden_size,weights_initializer=tf.contrib.layers.xavier_initializer(seed=100))\n",
    "logits_flat = tf.contrib.layers.linear(hidden_layer, target_size,weights_initializer=tf.contrib.layers.xavier_initializer(seed=102))\n",
    "logits = tf.reshape(logits_flat, [batch_size, target_size])#reshape to be (batch_size*4)\n",
    "\n",
    "# Define L2 loss\n",
    "tf_vars = tf.trainable_variables()\n",
    "l2_loss = tf.add_n([tf.nn.l2_loss(v) for v in tf_vars if 'bias' not in v.name]) * l2_alpha\n",
    "\n",
    "# Define overall loss\n",
    "loss = tf.reduce_sum(tf.nn.sparse_softmax_cross_entropy_with_logits(logits=logits, labels=stances_pl) + l2_loss)\n",
    "\n",
    "# Define prediction\n",
    "softmaxed_logits = tf.nn.softmax(logits)\n",
    "#predict = tf.argmax(softmaxed_logits, 1)\n",
    "predict=softmaxed_logits\n",
    "# Define optimiser\n",
    "opt_func = tf.train.AdamOptimizer(learn_rate)\n",
    "grads, _ = tf.clip_by_global_norm(tf.gradients(loss, tf_vars), clip_ratio)\n",
    "opt_op = opt_func.apply_gradients(zip(grads, tf_vars))\n",
    "\n",
    "# Perform training\n",
    "with tf.Session() as sess:\n",
    "    with tf.device(\"/cpu:0\"\t):\n",
    "        sess.run(tf.global_variables_initializer())\n",
    "        saver = tf.train.Saver()\n",
    "\n",
    "        for epoch in range(epochs):\n",
    "            total_loss = 0\n",
    "            indices = list(range(n_train))\n",
    "            r.shuffle(indices)\n",
    "\n",
    "            for i in range(n_train // batch_size_train):\n",
    "                batch_indices = indices[i * batch_size_train: (i + 1) * batch_size_train]\n",
    "                batch_features = [train_set[i] for i in batch_indices]\n",
    "                batch_stances = [train_stances[i] for i in batch_indices]\n",
    "\n",
    "                batch_feed_dict = {features_pl: batch_features, stances_pl: batch_stances}\n",
    "                _, current_loss = sess.run([opt_op, loss], feed_dict=batch_feed_dict)\n",
    "                total_loss += current_loss\n",
    "\n",
    "            #print('epoch',epoch,'loss',total_loss)\n",
    "\n",
    "        #=====Save the Checkpoints===============================\n",
    "        saver.save(sess, './model/mymodel')\n",
    "        #=========================================================\n",
    "\n",
    "        # Predict\n",
    "        test_feed_dict = {features_pl: test_set}\n",
    "        test_pred = sess.run(predict, feed_dict=test_feed_dict)       \n",
    "print (test_pred)"
   ]
  },
  {
   "cell_type": "code",
   "execution_count": 52,
   "metadata": {},
   "outputs": [
    {
     "name": "stdout",
     "output_type": "stream",
     "text": [
      "[0 1 2 0 1 1 0 1 2 0 2 1 2 1]\n"
     ]
    }
   ],
   "source": [
    "\n",
    "import numpy as np\n",
    "final_pred_index = np.argmax(test_pred,1)\n",
    "print(final_pred_index)"
   ]
  },
  {
   "cell_type": "code",
   "execution_count": 53,
   "metadata": {},
   "outputs": [
    {
     "name": "stdout",
     "output_type": "stream",
     "text": [
      "-----------------------------------------------------------------\n",
      "|               |  Iris-setosa  |Iris-versicolor|Iris-virginica |\n",
      "-----------------------------------------------------------------\n",
      "|  Iris-setosa  |       4       |       0       |       0       |\n",
      "-----------------------------------------------------------------\n",
      "|Iris-versicolor|       0       |       6       |       0       |\n",
      "-----------------------------------------------------------------\n",
      "|Iris-virginica |       0       |       1       |       3       |\n",
      "-----------------------------------------------------------------\n"
     ]
    },
    {
     "ename": "NameError",
     "evalue": "name 'Agree' is not defined",
     "output_type": "error",
     "traceback": [
      "\u001b[1;31m---------------------------------------------------------------------------\u001b[0m",
      "\u001b[1;31mNameError\u001b[0m                                 Traceback (most recent call last)",
      "\u001b[1;32m<ipython-input-53-d1a7661528a3>\u001b[0m in \u001b[0;36m<module>\u001b[1;34m()\u001b[0m\n\u001b[0;32m     39\u001b[0m     \u001b[0mlines\u001b[0m\u001b[1;33m.\u001b[0m\u001b[0mappend\u001b[0m\u001b[1;33m(\u001b[0m\u001b[1;34m\"-\"\u001b[0m\u001b[1;33m*\u001b[0m\u001b[0mline_len\u001b[0m\u001b[1;33m)\u001b[0m\u001b[1;33m\u001b[0m\u001b[0m\n\u001b[0;32m     40\u001b[0m \u001b[0mprint\u001b[0m\u001b[1;33m(\u001b[0m\u001b[1;34m'\\n'\u001b[0m\u001b[1;33m.\u001b[0m\u001b[0mjoin\u001b[0m\u001b[1;33m(\u001b[0m\u001b[0mlines\u001b[0m\u001b[1;33m)\u001b[0m\u001b[1;33m)\u001b[0m\u001b[1;33m\u001b[0m\u001b[0m\n\u001b[1;32m---> 41\u001b[1;33m \u001b[0mprint\u001b[0m\u001b[1;33m(\u001b[0m\u001b[1;34m'setosa'\u001b[0m\u001b[1;33m,\u001b[0m\u001b[0mAgree\u001b[0m\u001b[1;33m)\u001b[0m\u001b[1;33m\u001b[0m\u001b[0m\n\u001b[0m\u001b[0;32m     42\u001b[0m \u001b[0mprint\u001b[0m\u001b[1;33m(\u001b[0m\u001b[1;34m'versicolor'\u001b[0m\u001b[1;33m,\u001b[0m\u001b[0mDisagree\u001b[0m\u001b[1;33m)\u001b[0m\u001b[1;33m\u001b[0m\u001b[0m\n\u001b[0;32m     43\u001b[0m \u001b[0mprint\u001b[0m\u001b[1;33m(\u001b[0m\u001b[1;34m'virginica '\u001b[0m\u001b[1;33m,\u001b[0m\u001b[0mDiscuss\u001b[0m\u001b[1;33m)\u001b[0m\u001b[1;33m\u001b[0m\u001b[0m\n",
      "\u001b[1;31mNameError\u001b[0m: name 'Agree' is not defined"
     ]
    }
   ],
   "source": [
    "LABELS = ['Iris-setosa', 'Iris-versicolor', 'Iris-virginica']\n",
    "cm = [[0, 0, 0 ],\n",
    "          [0, 0, 0 ],\n",
    "          [0, 0, 0],]\n",
    "for i, (g, t) in enumerate(zip(final_pred_index, test_stances)):\n",
    "    g_stance, t_stance = g, t\n",
    "    cm[g_stance][t_stance] += 1\n",
    "if sum(cm[0])==0:\n",
    "        setosa=0\n",
    "else:\n",
    "    agree_recall=cm[0][0]/sum(cm[0])\n",
    "if sum(cm[1])==0:\n",
    "    versicolor=0\n",
    "else:\n",
    "    disagree_recall=cm[1][1]/sum(cm[1])\n",
    "if sum(cm[2])==0:\n",
    "    virginica=0\n",
    "else:\n",
    "    discuss_recall=cm[2][2]/sum(cm[2])\n",
    "\n",
    "    \n",
    "if sum(cm[0]+cm[1]+cm[2])==0:\n",
    "    all_recall=0\n",
    "else:\n",
    "    all_recall=(cm[0][0]+cm[1][1]+cm[2][2])/sum(cm[0]+cm[1]+cm[2])\n",
    "    lines = []\n",
    "header = \"|{:^15}|{:^15}|{:^15}|{:^15}|\".format('', *LABELS)\n",
    "line_len = len(header)\n",
    "lines.append(\"-\"*line_len)\n",
    "lines.append(header)\n",
    "lines.append(\"-\"*line_len)\n",
    "\n",
    "hit = 0\n",
    "total = 0\n",
    "for i, row in enumerate(cm):\n",
    "    hit += row[i]\n",
    "    total += sum(row)\n",
    "    lines.append(\"|{:^15}|{:^15}|{:^15}|{:^15}|\".format(LABELS[i],*row))\n",
    "    lines.append(\"-\"*line_len)\n",
    "print('\\n'.join(lines))\n",
    "print('setosa',Agree)\n",
    "print('versicolor',Disagree)\n",
    "print('virginica ',Discuss)\n",
    "print('virginica ',Unrelated)\n",
    "print('Accuracy',Recall)"
   ]
  },
  {
   "cell_type": "code",
   "execution_count": null,
   "metadata": {},
   "outputs": [],
   "source": []
  }
 ],
 "metadata": {
  "kernelspec": {
   "display_name": "tensorflow",
   "language": "python",
   "name": "tensorflow"
  },
  "language_info": {
   "codemirror_mode": {
    "name": "ipython",
    "version": 3
   },
   "file_extension": ".py",
   "mimetype": "text/x-python",
   "name": "python",
   "nbconvert_exporter": "python",
   "pygments_lexer": "ipython3",
   "version": "3.5.3"
  }
 },
 "nbformat": 4,
 "nbformat_minor": 2
}
